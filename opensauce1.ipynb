{
  "nbformat": 4,
  "nbformat_minor": 0,
  "metadata": {
    "colab": {
      "provenance": [],
      "authorship_tag": "ABX9TyOxZsk51szHPvDI6SO72YEM",
      "include_colab_link": true
    },
    "kernelspec": {
      "name": "python3",
      "display_name": "Python 3"
    },
    "language_info": {
      "name": "python"
    }
  },
  "cells": [
    {
      "cell_type": "markdown",
      "metadata": {
        "id": "view-in-github",
        "colab_type": "text"
      },
      "source": [
        "<a href=\"https://colab.research.google.com/github/suan0227/opensauce/blob/main/opensauce1.ipynb\" target=\"_parent\"><img src=\"https://colab.research.google.com/assets/colab-badge.svg\" alt=\"Open In Colab\"/></a>"
      ]
    },
    {
      "cell_type": "code",
      "execution_count": 3,
      "metadata": {
        "colab": {
          "base_uri": "https://localhost:8080/"
        },
        "id": "so4QkQBiCFqP",
        "outputId": "e9abaf19-4136-4eaf-edbc-146471ad95f1"
      },
      "outputs": [
        {
          "output_type": "stream",
          "name": "stdout",
          "text": [
            "Value for 3\n",
            "Value for 3\n"
          ]
        }
      ],
      "source": [
        "class MyCollection:\n",
        "    def __getitem__(self,key):\n",
        "        return f\"Value for {key}\"\n",
        "\n",
        "collection = MyCollection()\n",
        "print(collection.__getitem__(3))\n",
        "print(collection[3])"
      ]
    },
    {
      "cell_type": "code",
      "source": [
        "import collections\n",
        "\n",
        "Card = collections.namedtuple('Card', ['rank','suit'])\n",
        "\n",
        "class FrenchDeck:\n",
        "    ranks = [str(n) for n in range(2,11)] + list('JQKA')\n",
        "    suits = 'spades diamonds clubs hearts'.split()\n",
        "\n",
        "    def __init__(self):\n",
        "        self._cards = [Card(rank,suit) for suit in self.suits\n",
        "                      for rank in self.ranks]\n",
        "    def __len__(self):\n",
        "        return len(self._cards)\n",
        "\n",
        "    def __getitem__(self,position):\n",
        "        return self._cards[position]"
      ],
      "metadata": {
        "id": "7L3CZQPiCnu0"
      },
      "execution_count": 18,
      "outputs": []
    },
    {
      "cell_type": "code",
      "source": [
        "beer_card = Card('7','diamonds')\n",
        "beer_card"
      ],
      "metadata": {
        "colab": {
          "base_uri": "https://localhost:8080/"
        },
        "id": "ggsujJAoDnS9",
        "outputId": "5b4a5593-b90f-4721-9a0d-eb2f80457892"
      },
      "execution_count": 27,
      "outputs": [
        {
          "output_type": "execute_result",
          "data": {
            "text/plain": [
              "Card(rank='7', suit='diamonds')"
            ]
          },
          "metadata": {},
          "execution_count": 27
        }
      ]
    },
    {
      "cell_type": "code",
      "source": [
        "deck = FrenchDeck()\n",
        "print(f\"Ranks: {deck.ranks}\")\n",
        "print(f\"len: {len(deck)}\")"
      ],
      "metadata": {
        "colab": {
          "base_uri": "https://localhost:8080/"
        },
        "id": "hYOpDlZODxdn",
        "outputId": "21d0235c-d9d4-424d-d240-f0fb9335c708"
      },
      "execution_count": 19,
      "outputs": [
        {
          "output_type": "stream",
          "name": "stdout",
          "text": [
            "Ranks: ['2', '3', '4', '5', '6', '7', '8', '9', '10', 'J', 'Q', 'K', 'A']\n",
            "len: 52\n"
          ]
        }
      ]
    },
    {
      "cell_type": "code",
      "source": [
        "print(deck[0])\n",
        "print(deck[-1])"
      ],
      "metadata": {
        "colab": {
          "base_uri": "https://localhost:8080/"
        },
        "id": "1n_5yBd6Eobp",
        "outputId": "ccb55ece-c2c3-42e2-a200-167f21efb33f"
      },
      "execution_count": 20,
      "outputs": [
        {
          "output_type": "stream",
          "name": "stdout",
          "text": [
            "Card(rank='2', suit='spades')\n",
            "Card(rank='A', suit='hearts')\n"
          ]
        }
      ]
    },
    {
      "cell_type": "code",
      "source": [
        "from random import choice\n",
        "print(choice(deck))\n",
        "print(choice(deck))\n",
        "print(choice(deck))"
      ],
      "metadata": {
        "colab": {
          "base_uri": "https://localhost:8080/"
        },
        "id": "yb9NROMvE8yS",
        "outputId": "518d7b42-706a-45d5-c769-d7600b814f0d"
      },
      "execution_count": 21,
      "outputs": [
        {
          "output_type": "stream",
          "name": "stdout",
          "text": [
            "Card(rank='K', suit='clubs')\n",
            "Card(rank='A', suit='diamonds')\n",
            "Card(rank='2', suit='spades')\n"
          ]
        }
      ]
    },
    {
      "cell_type": "code",
      "source": [
        "deck[:3]"
      ],
      "metadata": {
        "colab": {
          "base_uri": "https://localhost:8080/"
        },
        "id": "AQE8xwBQFD3V",
        "outputId": "cccf375c-13f9-4450-f76a-62e061ec958e"
      },
      "execution_count": 22,
      "outputs": [
        {
          "output_type": "execute_result",
          "data": {
            "text/plain": [
              "[Card(rank='2', suit='spades'),\n",
              " Card(rank='3', suit='spades'),\n",
              " Card(rank='4', suit='spades')]"
            ]
          },
          "metadata": {},
          "execution_count": 22
        }
      ]
    },
    {
      "cell_type": "code",
      "source": [
        "deck[12::13]"
      ],
      "metadata": {
        "colab": {
          "base_uri": "https://localhost:8080/"
        },
        "id": "CAIPpgVhFGil",
        "outputId": "7cf7ad51-31e3-4aae-900b-7b7971770788"
      },
      "execution_count": 23,
      "outputs": [
        {
          "output_type": "execute_result",
          "data": {
            "text/plain": [
              "[Card(rank='A', suit='spades'),\n",
              " Card(rank='A', suit='diamonds'),\n",
              " Card(rank='A', suit='clubs'),\n",
              " Card(rank='A', suit='hearts')]"
            ]
          },
          "metadata": {},
          "execution_count": 23
        }
      ]
    },
    {
      "cell_type": "code",
      "source": [
        "for card in deck:\n",
        "    print(card)"
      ],
      "metadata": {
        "colab": {
          "base_uri": "https://localhost:8080/"
        },
        "id": "ORBV-wuYFJd1",
        "outputId": "307973ce-9a5b-4e4c-f8c6-f0d25e50765c"
      },
      "execution_count": 24,
      "outputs": [
        {
          "output_type": "stream",
          "name": "stdout",
          "text": [
            "Card(rank='2', suit='spades')\n",
            "Card(rank='3', suit='spades')\n",
            "Card(rank='4', suit='spades')\n",
            "Card(rank='5', suit='spades')\n",
            "Card(rank='6', suit='spades')\n",
            "Card(rank='7', suit='spades')\n",
            "Card(rank='8', suit='spades')\n",
            "Card(rank='9', suit='spades')\n",
            "Card(rank='10', suit='spades')\n",
            "Card(rank='J', suit='spades')\n",
            "Card(rank='Q', suit='spades')\n",
            "Card(rank='K', suit='spades')\n",
            "Card(rank='A', suit='spades')\n",
            "Card(rank='2', suit='diamonds')\n",
            "Card(rank='3', suit='diamonds')\n",
            "Card(rank='4', suit='diamonds')\n",
            "Card(rank='5', suit='diamonds')\n",
            "Card(rank='6', suit='diamonds')\n",
            "Card(rank='7', suit='diamonds')\n",
            "Card(rank='8', suit='diamonds')\n",
            "Card(rank='9', suit='diamonds')\n",
            "Card(rank='10', suit='diamonds')\n",
            "Card(rank='J', suit='diamonds')\n",
            "Card(rank='Q', suit='diamonds')\n",
            "Card(rank='K', suit='diamonds')\n",
            "Card(rank='A', suit='diamonds')\n",
            "Card(rank='2', suit='clubs')\n",
            "Card(rank='3', suit='clubs')\n",
            "Card(rank='4', suit='clubs')\n",
            "Card(rank='5', suit='clubs')\n",
            "Card(rank='6', suit='clubs')\n",
            "Card(rank='7', suit='clubs')\n",
            "Card(rank='8', suit='clubs')\n",
            "Card(rank='9', suit='clubs')\n",
            "Card(rank='10', suit='clubs')\n",
            "Card(rank='J', suit='clubs')\n",
            "Card(rank='Q', suit='clubs')\n",
            "Card(rank='K', suit='clubs')\n",
            "Card(rank='A', suit='clubs')\n",
            "Card(rank='2', suit='hearts')\n",
            "Card(rank='3', suit='hearts')\n",
            "Card(rank='4', suit='hearts')\n",
            "Card(rank='5', suit='hearts')\n",
            "Card(rank='6', suit='hearts')\n",
            "Card(rank='7', suit='hearts')\n",
            "Card(rank='8', suit='hearts')\n",
            "Card(rank='9', suit='hearts')\n",
            "Card(rank='10', suit='hearts')\n",
            "Card(rank='J', suit='hearts')\n",
            "Card(rank='Q', suit='hearts')\n",
            "Card(rank='K', suit='hearts')\n",
            "Card(rank='A', suit='hearts')\n"
          ]
        }
      ]
    },
    {
      "cell_type": "code",
      "source": [
        "for card in reversed(deck):\n",
        "    print(card)"
      ],
      "metadata": {
        "colab": {
          "base_uri": "https://localhost:8080/"
        },
        "id": "8P8lbIx8FNpT",
        "outputId": "4d46e310-c58e-4d8c-e742-e8fd8967588d"
      },
      "execution_count": 25,
      "outputs": [
        {
          "output_type": "stream",
          "name": "stdout",
          "text": [
            "Card(rank='A', suit='hearts')\n",
            "Card(rank='K', suit='hearts')\n",
            "Card(rank='Q', suit='hearts')\n",
            "Card(rank='J', suit='hearts')\n",
            "Card(rank='10', suit='hearts')\n",
            "Card(rank='9', suit='hearts')\n",
            "Card(rank='8', suit='hearts')\n",
            "Card(rank='7', suit='hearts')\n",
            "Card(rank='6', suit='hearts')\n",
            "Card(rank='5', suit='hearts')\n",
            "Card(rank='4', suit='hearts')\n",
            "Card(rank='3', suit='hearts')\n",
            "Card(rank='2', suit='hearts')\n",
            "Card(rank='A', suit='clubs')\n",
            "Card(rank='K', suit='clubs')\n",
            "Card(rank='Q', suit='clubs')\n",
            "Card(rank='J', suit='clubs')\n",
            "Card(rank='10', suit='clubs')\n",
            "Card(rank='9', suit='clubs')\n",
            "Card(rank='8', suit='clubs')\n",
            "Card(rank='7', suit='clubs')\n",
            "Card(rank='6', suit='clubs')\n",
            "Card(rank='5', suit='clubs')\n",
            "Card(rank='4', suit='clubs')\n",
            "Card(rank='3', suit='clubs')\n",
            "Card(rank='2', suit='clubs')\n",
            "Card(rank='A', suit='diamonds')\n",
            "Card(rank='K', suit='diamonds')\n",
            "Card(rank='Q', suit='diamonds')\n",
            "Card(rank='J', suit='diamonds')\n",
            "Card(rank='10', suit='diamonds')\n",
            "Card(rank='9', suit='diamonds')\n",
            "Card(rank='8', suit='diamonds')\n",
            "Card(rank='7', suit='diamonds')\n",
            "Card(rank='6', suit='diamonds')\n",
            "Card(rank='5', suit='diamonds')\n",
            "Card(rank='4', suit='diamonds')\n",
            "Card(rank='3', suit='diamonds')\n",
            "Card(rank='2', suit='diamonds')\n",
            "Card(rank='A', suit='spades')\n",
            "Card(rank='K', suit='spades')\n",
            "Card(rank='Q', suit='spades')\n",
            "Card(rank='J', suit='spades')\n",
            "Card(rank='10', suit='spades')\n",
            "Card(rank='9', suit='spades')\n",
            "Card(rank='8', suit='spades')\n",
            "Card(rank='7', suit='spades')\n",
            "Card(rank='6', suit='spades')\n",
            "Card(rank='5', suit='spades')\n",
            "Card(rank='4', suit='spades')\n",
            "Card(rank='3', suit='spades')\n",
            "Card(rank='2', suit='spades')\n"
          ]
        }
      ]
    },
    {
      "cell_type": "code",
      "source": [
        "suit_values = dict(spades=3, hearts=2, diamonds=1, clubs=0)\n",
        "\n",
        "def spades_high(card):\n",
        "    rank_value = FrenchDeck.ranks.index(card.rank)\n",
        "    return rank_value * len(suit_values) + suit_values[card.suit]"
      ],
      "metadata": {
        "id": "-_24NjjIFSqj"
      },
      "execution_count": 26,
      "outputs": []
    },
    {
      "cell_type": "code",
      "source": [
        "spades_high(beer_card)"
      ],
      "metadata": {
        "colab": {
          "base_uri": "https://localhost:8080/"
        },
        "id": "C1z6LBClFwA-",
        "outputId": "d44f0b54-a51e-4252-a7f8-f09bb637d0cb"
      },
      "execution_count": 28,
      "outputs": [
        {
          "output_type": "execute_result",
          "data": {
            "text/plain": [
              "21"
            ]
          },
          "metadata": {},
          "execution_count": 28
        }
      ]
    },
    {
      "cell_type": "code",
      "source": [
        "for card in sorted(deck, key=spades_high):\n",
        "    print('The eank of {} is {}.'.format(card, spades_high(card)))"
      ],
      "metadata": {
        "colab": {
          "base_uri": "https://localhost:8080/"
        },
        "id": "YpxLUusoF1ls",
        "outputId": "b0f0c3dc-bc99-4f6c-83fe-dd4d72fe4f5f"
      },
      "execution_count": 29,
      "outputs": [
        {
          "output_type": "stream",
          "name": "stdout",
          "text": [
            "The eank of Card(rank='2', suit='clubs') is 0.\n",
            "The eank of Card(rank='2', suit='diamonds') is 1.\n",
            "The eank of Card(rank='2', suit='hearts') is 2.\n",
            "The eank of Card(rank='2', suit='spades') is 3.\n",
            "The eank of Card(rank='3', suit='clubs') is 4.\n",
            "The eank of Card(rank='3', suit='diamonds') is 5.\n",
            "The eank of Card(rank='3', suit='hearts') is 6.\n",
            "The eank of Card(rank='3', suit='spades') is 7.\n",
            "The eank of Card(rank='4', suit='clubs') is 8.\n",
            "The eank of Card(rank='4', suit='diamonds') is 9.\n",
            "The eank of Card(rank='4', suit='hearts') is 10.\n",
            "The eank of Card(rank='4', suit='spades') is 11.\n",
            "The eank of Card(rank='5', suit='clubs') is 12.\n",
            "The eank of Card(rank='5', suit='diamonds') is 13.\n",
            "The eank of Card(rank='5', suit='hearts') is 14.\n",
            "The eank of Card(rank='5', suit='spades') is 15.\n",
            "The eank of Card(rank='6', suit='clubs') is 16.\n",
            "The eank of Card(rank='6', suit='diamonds') is 17.\n",
            "The eank of Card(rank='6', suit='hearts') is 18.\n",
            "The eank of Card(rank='6', suit='spades') is 19.\n",
            "The eank of Card(rank='7', suit='clubs') is 20.\n",
            "The eank of Card(rank='7', suit='diamonds') is 21.\n",
            "The eank of Card(rank='7', suit='hearts') is 22.\n",
            "The eank of Card(rank='7', suit='spades') is 23.\n",
            "The eank of Card(rank='8', suit='clubs') is 24.\n",
            "The eank of Card(rank='8', suit='diamonds') is 25.\n",
            "The eank of Card(rank='8', suit='hearts') is 26.\n",
            "The eank of Card(rank='8', suit='spades') is 27.\n",
            "The eank of Card(rank='9', suit='clubs') is 28.\n",
            "The eank of Card(rank='9', suit='diamonds') is 29.\n",
            "The eank of Card(rank='9', suit='hearts') is 30.\n",
            "The eank of Card(rank='9', suit='spades') is 31.\n",
            "The eank of Card(rank='10', suit='clubs') is 32.\n",
            "The eank of Card(rank='10', suit='diamonds') is 33.\n",
            "The eank of Card(rank='10', suit='hearts') is 34.\n",
            "The eank of Card(rank='10', suit='spades') is 35.\n",
            "The eank of Card(rank='J', suit='clubs') is 36.\n",
            "The eank of Card(rank='J', suit='diamonds') is 37.\n",
            "The eank of Card(rank='J', suit='hearts') is 38.\n",
            "The eank of Card(rank='J', suit='spades') is 39.\n",
            "The eank of Card(rank='Q', suit='clubs') is 40.\n",
            "The eank of Card(rank='Q', suit='diamonds') is 41.\n",
            "The eank of Card(rank='Q', suit='hearts') is 42.\n",
            "The eank of Card(rank='Q', suit='spades') is 43.\n",
            "The eank of Card(rank='K', suit='clubs') is 44.\n",
            "The eank of Card(rank='K', suit='diamonds') is 45.\n",
            "The eank of Card(rank='K', suit='hearts') is 46.\n",
            "The eank of Card(rank='K', suit='spades') is 47.\n",
            "The eank of Card(rank='A', suit='clubs') is 48.\n",
            "The eank of Card(rank='A', suit='diamonds') is 49.\n",
            "The eank of Card(rank='A', suit='hearts') is 50.\n",
            "The eank of Card(rank='A', suit='spades') is 51.\n"
          ]
        }
      ]
    },
    {
      "cell_type": "code",
      "source": [
        "import math\n",
        "class Vector:\n",
        "    def __init__(self,x=0,y=0):\n",
        "        self.x = x\n",
        "        self.y = y\n",
        "\n",
        "    def __repr__(self):\n",
        "        return 'Vector(%r,%r)' % (self.x,self.y)\n",
        "    def __abs__(self):\n",
        "        return math.hypot(self.x,self.y)\n",
        "    def __bool__(self):\n",
        "        return bool(abs(self))\n",
        "    def __add__(self, other):\n",
        "        x = self.x + other.x\n",
        "        y = self.y + other.y\n",
        "        return Vector(x,y)\n",
        "    def __mul__(self,scalar):\n",
        "        return Vector(self.x * scalar, self.y * scalar)"
      ],
      "metadata": {
        "id": "_wWk1fiKGBCa"
      },
      "execution_count": 32,
      "outputs": []
    },
    {
      "cell_type": "code",
      "source": [
        "v = Vector(3,4)\n",
        "abs(v)"
      ],
      "metadata": {
        "colab": {
          "base_uri": "https://localhost:8080/"
        },
        "id": "t22W7ucfGuz9",
        "outputId": "f375f54f-66c2-4218-bb9b-013b911ee2bc"
      },
      "execution_count": 33,
      "outputs": [
        {
          "output_type": "execute_result",
          "data": {
            "text/plain": [
              "5.0"
            ]
          },
          "metadata": {},
          "execution_count": 33
        }
      ]
    },
    {
      "cell_type": "code",
      "source": [
        "v * 3\n",
        "abs(v*3)"
      ],
      "metadata": {
        "colab": {
          "base_uri": "https://localhost:8080/"
        },
        "id": "OfLvvEzDHMKp",
        "outputId": "4c8ae551-02d8-4d9c-e41c-5f942ae95602"
      },
      "execution_count": 34,
      "outputs": [
        {
          "output_type": "execute_result",
          "data": {
            "text/plain": [
              "15.0"
            ]
          },
          "metadata": {},
          "execution_count": 34
        }
      ]
    },
    {
      "cell_type": "code",
      "source": [
        "v1 = Vector(2,4)\n",
        "v2 = Vector(2,1)\n",
        "v1 + v2"
      ],
      "metadata": {
        "colab": {
          "base_uri": "https://localhost:8080/"
        },
        "id": "oaL5JlKfHOaZ",
        "outputId": "cd20863e-7a26-4e41-b6f8-544d68e6c4c5"
      },
      "execution_count": 35,
      "outputs": [
        {
          "output_type": "execute_result",
          "data": {
            "text/plain": [
              "Vector(4,5)"
            ]
          },
          "metadata": {},
          "execution_count": 35
        }
      ]
    },
    {
      "cell_type": "code",
      "source": [
        "v"
      ],
      "metadata": {
        "colab": {
          "base_uri": "https://localhost:8080/"
        },
        "id": "sHKy2TOZHUFc",
        "outputId": "151bb3d9-77df-446d-9379-a4f955a97018"
      },
      "execution_count": 36,
      "outputs": [
        {
          "output_type": "execute_result",
          "data": {
            "text/plain": [
              "Vector(3,4)"
            ]
          },
          "metadata": {},
          "execution_count": 36
        }
      ]
    }
  ]
}